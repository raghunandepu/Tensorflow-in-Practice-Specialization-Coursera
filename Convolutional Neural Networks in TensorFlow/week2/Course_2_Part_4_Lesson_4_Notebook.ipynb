{
  "nbformat": 4,
  "nbformat_minor": 0,
  "metadata": {
    "accelerator": "GPU",
    "colab": {
      "name": "Course 2 - Part 4 - Lesson 4 - Notebook.ipynb",
      "provenance": [],
      "collapsed_sections": [],
      "toc_visible": true
    },
    "kernelspec": {
      "display_name": "Python 3",
      "name": "python3"
    }
  },
  "cells": [
    {
      "cell_type": "markdown",
      "metadata": {
        "id": "rX8mhOLljYeM"
      },
      "source": [
        "##### Copyright 2019 The TensorFlow Authors."
      ]
    },
    {
      "cell_type": "code",
      "metadata": {
        "cellView": "form",
        "id": "BZSlp3DAjdYf"
      },
      "source": [
        "#@title Licensed under the Apache License, Version 2.0 (the \"License\");\n",
        "# you may not use this file except in compliance with the License.\n",
        "# You may obtain a copy of the License at\n",
        "#\n",
        "# https://www.apache.org/licenses/LICENSE-2.0\n",
        "#\n",
        "# Unless required by applicable law or agreed to in writing, software\n",
        "# distributed under the License is distributed on an \"AS IS\" BASIS,\n",
        "# WITHOUT WARRANTIES OR CONDITIONS OF ANY KIND, either express or implied.\n",
        "# See the License for the specific language governing permissions and\n",
        "# limitations under the License."
      ],
      "execution_count": 1,
      "outputs": []
    },
    {
      "cell_type": "code",
      "metadata": {
        "id": "RXZT2UsyIVe_",
        "outputId": "e138460d-4b9d-4fa7-d43a-67b2647ab34f",
        "colab": {
          "base_uri": "https://localhost:8080/"
        }
      },
      "source": [
        "!wget --no-check-certificate \\\n",
        "    https://storage.googleapis.com/laurencemoroney-blog.appspot.com/horse-or-human.zip \\\n",
        "    -O /tmp/horse-or-human.zip\n",
        "\n",
        "!wget --no-check-certificate \\\n",
        "    https://storage.googleapis.com/laurencemoroney-blog.appspot.com/validation-horse-or-human.zip \\\n",
        "    -O /tmp/validation-horse-or-human.zip\n",
        "  \n",
        "import os\n",
        "import zipfile\n",
        "\n",
        "local_zip = '/tmp/horse-or-human.zip'\n",
        "zip_ref = zipfile.ZipFile(local_zip, 'r')\n",
        "zip_ref.extractall('/tmp/horse-or-human')\n",
        "local_zip = '/tmp/validation-horse-or-human.zip'\n",
        "zip_ref = zipfile.ZipFile(local_zip, 'r')\n",
        "zip_ref.extractall('/tmp/validation-horse-or-human')\n",
        "zip_ref.close()\n",
        "# Directory with our training horse pictures\n",
        "train_horse_dir = os.path.join('/tmp/horse-or-human/horses')\n",
        "\n",
        "# Directory with our training human pictures\n",
        "train_human_dir = os.path.join('/tmp/horse-or-human/humans')\n",
        "\n",
        "# Directory with our training horse pictures\n",
        "validation_horse_dir = os.path.join('/tmp/validation-horse-or-human/horses')\n",
        "\n",
        "# Directory with our training human pictures\n",
        "validation_human_dir = os.path.join('/tmp/validation-horse-or-human/humans')"
      ],
      "execution_count": 2,
      "outputs": [
        {
          "output_type": "stream",
          "text": [
            "--2020-10-11 06:00:31--  https://storage.googleapis.com/laurencemoroney-blog.appspot.com/horse-or-human.zip\n",
            "Resolving storage.googleapis.com (storage.googleapis.com)... 74.125.195.128, 74.125.20.128, 74.125.28.128, ...\n",
            "Connecting to storage.googleapis.com (storage.googleapis.com)|74.125.195.128|:443... connected.\n",
            "HTTP request sent, awaiting response... 200 OK\n",
            "Length: 149574867 (143M) [application/zip]\n",
            "Saving to: ‘/tmp/horse-or-human.zip’\n",
            "\n",
            "/tmp/horse-or-human 100%[===================>] 142.65M   154MB/s    in 0.9s    \n",
            "\n",
            "2020-10-11 06:00:33 (154 MB/s) - ‘/tmp/horse-or-human.zip’ saved [149574867/149574867]\n",
            "\n",
            "--2020-10-11 06:00:33--  https://storage.googleapis.com/laurencemoroney-blog.appspot.com/validation-horse-or-human.zip\n",
            "Resolving storage.googleapis.com (storage.googleapis.com)... 74.125.195.128, 173.194.202.128, 74.125.199.128, ...\n",
            "Connecting to storage.googleapis.com (storage.googleapis.com)|74.125.195.128|:443... connected.\n",
            "HTTP request sent, awaiting response... 200 OK\n",
            "Length: 11480187 (11M) [application/zip]\n",
            "Saving to: ‘/tmp/validation-horse-or-human.zip’\n",
            "\n",
            "/tmp/validation-hor 100%[===================>]  10.95M  54.6MB/s    in 0.2s    \n",
            "\n",
            "2020-10-11 06:00:33 (54.6 MB/s) - ‘/tmp/validation-horse-or-human.zip’ saved [11480187/11480187]\n",
            "\n"
          ],
          "name": "stdout"
        }
      ]
    },
    {
      "cell_type": "markdown",
      "metadata": {
        "id": "5oqBkNBJmtUv"
      },
      "source": [
        "## Building a Small Model from Scratch\n",
        "\n",
        "But before we continue, let's start defining the model:\n",
        "\n",
        "Step 1 will be to import tensorflow."
      ]
    },
    {
      "cell_type": "code",
      "metadata": {
        "id": "qvfZg3LQbD-5"
      },
      "source": [
        "import tensorflow as tf"
      ],
      "execution_count": 3,
      "outputs": []
    },
    {
      "cell_type": "markdown",
      "metadata": {
        "id": "BnhYCP4tdqjC"
      },
      "source": [
        "We then add convolutional layers as in the previous example, and flatten the final result to feed into the densely connected layers."
      ]
    },
    {
      "cell_type": "markdown",
      "metadata": {
        "id": "gokG5HKpdtzm"
      },
      "source": [
        "Finally we add the densely connected layers. \n",
        "\n",
        "Note that because we are facing a two-class classification problem, i.e. a *binary classification problem*, we will end our network with a [*sigmoid* activation](https://wikipedia.org/wiki/Sigmoid_function), so that the output of our network will be a single scalar between 0 and 1, encoding the probability that the current image is class 1 (as opposed to class 0)."
      ]
    },
    {
      "cell_type": "code",
      "metadata": {
        "id": "PixZ2s5QbYQ3"
      },
      "source": [
        "model = tf.keras.models.Sequential([\n",
        "    # Note the input shape is the desired size of the image 300x300 with 3 bytes color\n",
        "    # This is the first convolution\n",
        "    tf.keras.layers.Conv2D(16, (3,3), activation='relu', input_shape=(300, 300, 3)),\n",
        "    tf.keras.layers.MaxPooling2D(2, 2),\n",
        "    # The second convolution\n",
        "    tf.keras.layers.Conv2D(32, (3,3), activation='relu'),\n",
        "    tf.keras.layers.MaxPooling2D(2,2),\n",
        "    # The third convolution\n",
        "    tf.keras.layers.Conv2D(64, (3,3), activation='relu'),\n",
        "    tf.keras.layers.MaxPooling2D(2,2),\n",
        "    # The fourth convolution\n",
        "    tf.keras.layers.Conv2D(64, (3,3), activation='relu'),\n",
        "    tf.keras.layers.MaxPooling2D(2,2),\n",
        "    # The fifth convolution\n",
        "    tf.keras.layers.Conv2D(64, (3,3), activation='relu'),\n",
        "    tf.keras.layers.MaxPooling2D(2,2),\n",
        "    # Flatten the results to feed into a DNN\n",
        "    tf.keras.layers.Flatten(),\n",
        "    # 512 neuron hidden layer\n",
        "    tf.keras.layers.Dense(512, activation='relu'),\n",
        "    # Only 1 output neuron. It will contain a value from 0-1 where 0 for 1 class ('horses') and 1 for the other ('humans')\n",
        "    tf.keras.layers.Dense(1, activation='sigmoid')\n",
        "])"
      ],
      "execution_count": 4,
      "outputs": []
    },
    {
      "cell_type": "code",
      "metadata": {
        "id": "8DHWhFP_uhq3"
      },
      "source": [
        "from tensorflow.keras.optimizers import RMSprop\n",
        "\n",
        "model.compile(loss='binary_crossentropy',\n",
        "              optimizer=RMSprop(lr=1e-4),\n",
        "              metrics=['accuracy'])"
      ],
      "execution_count": 5,
      "outputs": []
    },
    {
      "cell_type": "code",
      "metadata": {
        "id": "ClebU9NJg99G",
        "outputId": "c040ad7a-626a-45c8-90e5-82e8c0c6275f",
        "colab": {
          "base_uri": "https://localhost:8080/",
          "height": 51
        }
      },
      "source": [
        "from tensorflow.keras.preprocessing.image import ImageDataGenerator\n",
        "\n",
        "# All images will be rescaled by 1./255\n",
        "train_datagen = ImageDataGenerator(\n",
        "      rescale=1./255,\n",
        "      rotation_range=40,\n",
        "      width_shift_range=0.2,\n",
        "      height_shift_range=0.2,\n",
        "      shear_range=0.2,\n",
        "      zoom_range=0.2,\n",
        "      horizontal_flip=True,\n",
        "      fill_mode='nearest')\n",
        "\n",
        "validation_datagen = ImageDataGenerator(rescale=1/255)\n",
        "\n",
        "# Flow training images in batches of 128 using train_datagen generator\n",
        "train_generator = train_datagen.flow_from_directory(\n",
        "        '/tmp/horse-or-human/',  # This is the source directory for training images\n",
        "        target_size=(300, 300),  # All images will be resized to 150x150\n",
        "        batch_size=128,\n",
        "        # Since we use binary_crossentropy loss, we need binary labels\n",
        "        class_mode='binary')\n",
        "\n",
        "# Flow training images in batches of 128 using train_datagen generator\n",
        "validation_generator = validation_datagen.flow_from_directory(\n",
        "        '/tmp/validation-horse-or-human/',  # This is the source directory for training images\n",
        "        target_size=(300, 300),  # All images will be resized to 150x150\n",
        "        batch_size=32,\n",
        "        # Since we use binary_crossentropy loss, we need binary labels\n",
        "        class_mode='binary')"
      ],
      "execution_count": 6,
      "outputs": [
        {
          "output_type": "stream",
          "text": [
            "Found 1027 images belonging to 2 classes.\n",
            "Found 256 images belonging to 2 classes.\n"
          ],
          "name": "stdout"
        }
      ]
    },
    {
      "cell_type": "code",
      "metadata": {
        "id": "Fb1_lgobv81m",
        "outputId": "214490af-efba-46d2-8757-0615d16993a4",
        "colab": {
          "base_uri": "https://localhost:8080/",
          "height": 1000
        }
      },
      "source": [
        "history = model.fit(\n",
        "      train_generator,\n",
        "      steps_per_epoch=8,  \n",
        "      epochs=100,\n",
        "      verbose=1,\n",
        "      validation_data = validation_generator,\n",
        "      validation_steps=8)"
      ],
      "execution_count": 7,
      "outputs": [
        {
          "output_type": "stream",
          "text": [
            "Epoch 1/100\n",
            "2/8 [======>.......................] - ETA: 0s - loss: 0.6868 - accuracy: 0.5703WARNING:tensorflow:Callbacks method `on_train_batch_end` is slow compared to the batch time (batch time: 0.0635s vs `on_train_batch_end` time: 0.1063s). Check your callbacks.\n",
            "8/8 [==============================] - 17s 2s/step - loss: 0.6878 - accuracy: 0.5562 - val_loss: 0.6775 - val_accuracy: 0.5000\n",
            "Epoch 2/100\n",
            "8/8 [==============================] - 21s 3s/step - loss: 0.6601 - accuracy: 0.6240 - val_loss: 0.6674 - val_accuracy: 0.5000\n",
            "Epoch 3/100\n",
            "8/8 [==============================] - 18s 2s/step - loss: 0.6091 - accuracy: 0.6874 - val_loss: 0.6949 - val_accuracy: 0.5000\n",
            "Epoch 4/100\n",
            "8/8 [==============================] - 19s 2s/step - loss: 0.5951 - accuracy: 0.7152 - val_loss: 0.7058 - val_accuracy: 0.5000\n",
            "Epoch 5/100\n",
            "8/8 [==============================] - 18s 2s/step - loss: 0.5610 - accuracy: 0.6885 - val_loss: 0.7799 - val_accuracy: 0.5000\n",
            "Epoch 6/100\n",
            "8/8 [==============================] - 18s 2s/step - loss: 0.5621 - accuracy: 0.7219 - val_loss: 0.7147 - val_accuracy: 0.5195\n",
            "Epoch 7/100\n",
            "8/8 [==============================] - 18s 2s/step - loss: 0.5300 - accuracy: 0.7353 - val_loss: 1.1349 - val_accuracy: 0.5000\n",
            "Epoch 8/100\n",
            "8/8 [==============================] - 21s 3s/step - loss: 0.5127 - accuracy: 0.7353 - val_loss: 0.8718 - val_accuracy: 0.5078\n",
            "Epoch 9/100\n",
            "8/8 [==============================] - 18s 2s/step - loss: 0.5172 - accuracy: 0.7330 - val_loss: 0.7411 - val_accuracy: 0.5703\n",
            "Epoch 10/100\n",
            "8/8 [==============================] - 21s 3s/step - loss: 0.4947 - accuracy: 0.7500 - val_loss: 0.7171 - val_accuracy: 0.6016\n",
            "Epoch 11/100\n",
            "8/8 [==============================] - 21s 3s/step - loss: 0.4704 - accuracy: 0.7852 - val_loss: 0.9652 - val_accuracy: 0.5508\n",
            "Epoch 12/100\n",
            "8/8 [==============================] - 18s 2s/step - loss: 0.4920 - accuracy: 0.7620 - val_loss: 0.8194 - val_accuracy: 0.6016\n",
            "Epoch 13/100\n",
            "8/8 [==============================] - 21s 3s/step - loss: 0.4562 - accuracy: 0.7959 - val_loss: 0.7340 - val_accuracy: 0.6445\n",
            "Epoch 14/100\n",
            "8/8 [==============================] - 20s 3s/step - loss: 0.4397 - accuracy: 0.7939 - val_loss: 1.3821 - val_accuracy: 0.5352\n",
            "Epoch 15/100\n",
            "8/8 [==============================] - 18s 2s/step - loss: 0.4441 - accuracy: 0.7942 - val_loss: 0.9411 - val_accuracy: 0.6133\n",
            "Epoch 16/100\n",
            "8/8 [==============================] - 21s 3s/step - loss: 0.3727 - accuracy: 0.8135 - val_loss: 1.4678 - val_accuracy: 0.5586\n",
            "Epoch 17/100\n",
            "8/8 [==============================] - 21s 3s/step - loss: 0.4024 - accuracy: 0.8242 - val_loss: 1.3926 - val_accuracy: 0.5664\n",
            "Epoch 18/100\n",
            "8/8 [==============================] - 18s 2s/step - loss: 0.4505 - accuracy: 0.7909 - val_loss: 1.5150 - val_accuracy: 0.5586\n",
            "Epoch 19/100\n",
            "8/8 [==============================] - 18s 2s/step - loss: 0.3676 - accuracy: 0.8387 - val_loss: 1.6738 - val_accuracy: 0.5469\n",
            "Epoch 20/100\n",
            "8/8 [==============================] - 21s 3s/step - loss: 0.3422 - accuracy: 0.8613 - val_loss: 2.0679 - val_accuracy: 0.5312\n",
            "Epoch 21/100\n",
            "8/8 [==============================] - 18s 2s/step - loss: 0.4205 - accuracy: 0.8009 - val_loss: 1.4269 - val_accuracy: 0.5664\n",
            "Epoch 22/100\n",
            "8/8 [==============================] - 18s 2s/step - loss: 0.3654 - accuracy: 0.8354 - val_loss: 1.3776 - val_accuracy: 0.6016\n",
            "Epoch 23/100\n",
            "8/8 [==============================] - 18s 2s/step - loss: 0.4116 - accuracy: 0.8209 - val_loss: 1.4146 - val_accuracy: 0.5898\n",
            "Epoch 24/100\n",
            "8/8 [==============================] - 18s 2s/step - loss: 0.3114 - accuracy: 0.8799 - val_loss: 1.4796 - val_accuracy: 0.5977\n",
            "Epoch 25/100\n",
            "8/8 [==============================] - 18s 2s/step - loss: 0.3409 - accuracy: 0.8454 - val_loss: 1.7428 - val_accuracy: 0.5664\n",
            "Epoch 26/100\n",
            "8/8 [==============================] - 18s 2s/step - loss: 0.3591 - accuracy: 0.8387 - val_loss: 1.4971 - val_accuracy: 0.6016\n",
            "Epoch 27/100\n",
            "8/8 [==============================] - 18s 2s/step - loss: 0.2953 - accuracy: 0.8743 - val_loss: 0.4871 - val_accuracy: 0.8281\n",
            "Epoch 28/100\n",
            "8/8 [==============================] - 18s 2s/step - loss: 0.4261 - accuracy: 0.8209 - val_loss: 1.4749 - val_accuracy: 0.5938\n",
            "Epoch 29/100\n",
            "8/8 [==============================] - 18s 2s/step - loss: 0.3029 - accuracy: 0.8732 - val_loss: 1.3502 - val_accuracy: 0.6484\n",
            "Epoch 30/100\n",
            "8/8 [==============================] - 18s 2s/step - loss: 0.3241 - accuracy: 0.8643 - val_loss: 1.7817 - val_accuracy: 0.5820\n",
            "Epoch 31/100\n",
            "8/8 [==============================] - 18s 2s/step - loss: 0.2987 - accuracy: 0.8832 - val_loss: 1.9062 - val_accuracy: 0.5820\n",
            "Epoch 32/100\n",
            "8/8 [==============================] - 18s 2s/step - loss: 0.2995 - accuracy: 0.8643 - val_loss: 1.7025 - val_accuracy: 0.6133\n",
            "Epoch 33/100\n",
            "8/8 [==============================] - 18s 2s/step - loss: 0.2797 - accuracy: 0.8843 - val_loss: 2.7265 - val_accuracy: 0.5430\n",
            "Epoch 34/100\n",
            "8/8 [==============================] - 20s 3s/step - loss: 0.2973 - accuracy: 0.8662 - val_loss: 2.4390 - val_accuracy: 0.5508\n",
            "Epoch 35/100\n",
            "8/8 [==============================] - 18s 2s/step - loss: 0.3258 - accuracy: 0.8532 - val_loss: 2.1349 - val_accuracy: 0.5742\n",
            "Epoch 36/100\n",
            "8/8 [==============================] - 18s 2s/step - loss: 0.2487 - accuracy: 0.9010 - val_loss: 1.9017 - val_accuracy: 0.5820\n",
            "Epoch 37/100\n",
            "8/8 [==============================] - 21s 3s/step - loss: 0.2869 - accuracy: 0.8699 - val_loss: 2.1965 - val_accuracy: 0.5703\n",
            "Epoch 38/100\n",
            "8/8 [==============================] - 21s 3s/step - loss: 0.2531 - accuracy: 0.8977 - val_loss: 1.7140 - val_accuracy: 0.6328\n",
            "Epoch 39/100\n",
            "8/8 [==============================] - 21s 3s/step - loss: 0.2816 - accuracy: 0.8730 - val_loss: 1.5664 - val_accuracy: 0.6445\n",
            "Epoch 40/100\n",
            "8/8 [==============================] - 18s 2s/step - loss: 0.2597 - accuracy: 0.8877 - val_loss: 1.3950 - val_accuracy: 0.6797\n",
            "Epoch 41/100\n",
            "8/8 [==============================] - 18s 2s/step - loss: 0.3089 - accuracy: 0.8710 - val_loss: 1.8432 - val_accuracy: 0.5977\n",
            "Epoch 42/100\n",
            "8/8 [==============================] - 18s 2s/step - loss: 0.3371 - accuracy: 0.8565 - val_loss: 1.5672 - val_accuracy: 0.5898\n",
            "Epoch 43/100\n",
            "8/8 [==============================] - 18s 2s/step - loss: 0.2404 - accuracy: 0.8999 - val_loss: 1.3375 - val_accuracy: 0.6719\n",
            "Epoch 44/100\n",
            "8/8 [==============================] - 18s 2s/step - loss: 0.2399 - accuracy: 0.9043 - val_loss: 2.7089 - val_accuracy: 0.5469\n",
            "Epoch 45/100\n",
            "8/8 [==============================] - 18s 2s/step - loss: 0.2568 - accuracy: 0.9021 - val_loss: 2.0979 - val_accuracy: 0.5781\n",
            "Epoch 46/100\n",
            "8/8 [==============================] - 18s 2s/step - loss: 0.2449 - accuracy: 0.8988 - val_loss: 1.3939 - val_accuracy: 0.6836\n",
            "Epoch 47/100\n",
            "8/8 [==============================] - 18s 2s/step - loss: 0.2935 - accuracy: 0.8687 - val_loss: 2.1083 - val_accuracy: 0.5781\n",
            "Epoch 48/100\n",
            "8/8 [==============================] - 21s 3s/step - loss: 0.2174 - accuracy: 0.9143 - val_loss: 2.1425 - val_accuracy: 0.6016\n",
            "Epoch 49/100\n",
            "8/8 [==============================] - 18s 2s/step - loss: 0.2770 - accuracy: 0.8788 - val_loss: 1.4015 - val_accuracy: 0.6797\n",
            "Epoch 50/100\n",
            "8/8 [==============================] - 18s 2s/step - loss: 0.2718 - accuracy: 0.8788 - val_loss: 1.9902 - val_accuracy: 0.6055\n",
            "Epoch 51/100\n",
            "8/8 [==============================] - 21s 3s/step - loss: 0.2002 - accuracy: 0.9219 - val_loss: 2.1746 - val_accuracy: 0.6055\n",
            "Epoch 52/100\n",
            "8/8 [==============================] - 18s 2s/step - loss: 0.2330 - accuracy: 0.9010 - val_loss: 2.8378 - val_accuracy: 0.5586\n",
            "Epoch 53/100\n",
            "8/8 [==============================] - 18s 2s/step - loss: 0.2281 - accuracy: 0.9055 - val_loss: 2.8806 - val_accuracy: 0.5586\n",
            "Epoch 54/100\n",
            "8/8 [==============================] - 18s 2s/step - loss: 0.2289 - accuracy: 0.8999 - val_loss: 2.8079 - val_accuracy: 0.5469\n",
            "Epoch 55/100\n",
            "8/8 [==============================] - 18s 2s/step - loss: 0.2362 - accuracy: 0.8954 - val_loss: 1.7011 - val_accuracy: 0.6016\n",
            "Epoch 56/100\n",
            "8/8 [==============================] - 21s 3s/step - loss: 0.1803 - accuracy: 0.9344 - val_loss: 2.1523 - val_accuracy: 0.6016\n",
            "Epoch 57/100\n",
            "8/8 [==============================] - 21s 3s/step - loss: 0.1798 - accuracy: 0.9443 - val_loss: 1.3592 - val_accuracy: 0.6914\n",
            "Epoch 58/100\n",
            "8/8 [==============================] - 20s 3s/step - loss: 0.2161 - accuracy: 0.9004 - val_loss: 2.1797 - val_accuracy: 0.6016\n",
            "Epoch 59/100\n",
            "8/8 [==============================] - 18s 2s/step - loss: 0.2149 - accuracy: 0.9188 - val_loss: 2.1365 - val_accuracy: 0.6016\n",
            "Epoch 60/100\n",
            "8/8 [==============================] - 18s 2s/step - loss: 0.1780 - accuracy: 0.9310 - val_loss: 2.0643 - val_accuracy: 0.6367\n",
            "Epoch 61/100\n",
            "8/8 [==============================] - 18s 2s/step - loss: 0.2312 - accuracy: 0.8999 - val_loss: 2.5623 - val_accuracy: 0.5703\n",
            "Epoch 62/100\n",
            "8/8 [==============================] - 18s 2s/step - loss: 0.1993 - accuracy: 0.9221 - val_loss: 2.2197 - val_accuracy: 0.6055\n",
            "Epoch 63/100\n",
            "8/8 [==============================] - 18s 2s/step - loss: 0.2056 - accuracy: 0.9166 - val_loss: 2.2043 - val_accuracy: 0.6211\n",
            "Epoch 64/100\n",
            "8/8 [==============================] - 18s 2s/step - loss: 0.1687 - accuracy: 0.9355 - val_loss: 2.5342 - val_accuracy: 0.5859\n",
            "Epoch 65/100\n",
            "8/8 [==============================] - 21s 3s/step - loss: 0.2306 - accuracy: 0.9077 - val_loss: 2.7101 - val_accuracy: 0.5625\n",
            "Epoch 66/100\n",
            "8/8 [==============================] - 18s 2s/step - loss: 0.1672 - accuracy: 0.9344 - val_loss: 3.3849 - val_accuracy: 0.5547\n",
            "Epoch 67/100\n",
            "8/8 [==============================] - 18s 2s/step - loss: 0.1886 - accuracy: 0.9266 - val_loss: 2.6480 - val_accuracy: 0.5820\n",
            "Epoch 68/100\n",
            "8/8 [==============================] - 18s 2s/step - loss: 0.1451 - accuracy: 0.9511 - val_loss: 2.5655 - val_accuracy: 0.6016\n",
            "Epoch 69/100\n",
            "8/8 [==============================] - 18s 2s/step - loss: 0.2146 - accuracy: 0.9066 - val_loss: 2.5876 - val_accuracy: 0.5742\n",
            "Epoch 70/100\n",
            "8/8 [==============================] - 20s 3s/step - loss: 0.1790 - accuracy: 0.9307 - val_loss: 1.6554 - val_accuracy: 0.6680\n",
            "Epoch 71/100\n",
            "8/8 [==============================] - 18s 2s/step - loss: 0.2457 - accuracy: 0.8943 - val_loss: 2.6067 - val_accuracy: 0.5664\n",
            "Epoch 72/100\n",
            "8/8 [==============================] - 18s 2s/step - loss: 0.1590 - accuracy: 0.9344 - val_loss: 2.3361 - val_accuracy: 0.6055\n",
            "Epoch 73/100\n",
            "8/8 [==============================] - 18s 2s/step - loss: 0.1383 - accuracy: 0.9477 - val_loss: 2.7127 - val_accuracy: 0.5977\n",
            "Epoch 74/100\n",
            "8/8 [==============================] - 18s 2s/step - loss: 0.1640 - accuracy: 0.9377 - val_loss: 2.4286 - val_accuracy: 0.6094\n",
            "Epoch 75/100\n",
            "8/8 [==============================] - 21s 3s/step - loss: 0.1316 - accuracy: 0.9544 - val_loss: 2.6827 - val_accuracy: 0.6055\n",
            "Epoch 76/100\n",
            "8/8 [==============================] - 21s 3s/step - loss: 0.2010 - accuracy: 0.9188 - val_loss: 2.4048 - val_accuracy: 0.6094\n",
            "Epoch 77/100\n",
            "8/8 [==============================] - 18s 2s/step - loss: 0.1473 - accuracy: 0.9511 - val_loss: 2.1419 - val_accuracy: 0.6406\n",
            "Epoch 78/100\n",
            "8/8 [==============================] - 21s 3s/step - loss: 0.1588 - accuracy: 0.9355 - val_loss: 2.4316 - val_accuracy: 0.6016\n",
            "Epoch 79/100\n",
            "8/8 [==============================] - 18s 2s/step - loss: 0.1526 - accuracy: 0.9444 - val_loss: 2.5420 - val_accuracy: 0.6055\n",
            "Epoch 80/100\n",
            "8/8 [==============================] - 18s 2s/step - loss: 0.1566 - accuracy: 0.9355 - val_loss: 1.8438 - val_accuracy: 0.6602\n",
            "Epoch 81/100\n",
            "8/8 [==============================] - 18s 2s/step - loss: 0.2027 - accuracy: 0.9155 - val_loss: 2.0853 - val_accuracy: 0.6367\n",
            "Epoch 82/100\n",
            "8/8 [==============================] - 18s 2s/step - loss: 0.1417 - accuracy: 0.9544 - val_loss: 2.7479 - val_accuracy: 0.6016\n",
            "Epoch 83/100\n",
            "8/8 [==============================] - 18s 2s/step - loss: 0.1712 - accuracy: 0.9266 - val_loss: 2.7232 - val_accuracy: 0.5703\n",
            "Epoch 84/100\n",
            "8/8 [==============================] - 20s 3s/step - loss: 0.1267 - accuracy: 0.9531 - val_loss: 3.2419 - val_accuracy: 0.5547\n",
            "Epoch 85/100\n",
            "8/8 [==============================] - 18s 2s/step - loss: 0.1477 - accuracy: 0.9410 - val_loss: 2.7946 - val_accuracy: 0.5859\n",
            "Epoch 86/100\n",
            "8/8 [==============================] - 20s 3s/step - loss: 0.1079 - accuracy: 0.9629 - val_loss: 2.9306 - val_accuracy: 0.5820\n",
            "Epoch 87/100\n",
            "8/8 [==============================] - 18s 2s/step - loss: 0.1249 - accuracy: 0.9488 - val_loss: 1.8342 - val_accuracy: 0.6836\n",
            "Epoch 88/100\n",
            "8/8 [==============================] - 18s 2s/step - loss: 0.1845 - accuracy: 0.9288 - val_loss: 0.7241 - val_accuracy: 0.8086\n",
            "Epoch 89/100\n",
            "8/8 [==============================] - 18s 2s/step - loss: 0.1920 - accuracy: 0.9288 - val_loss: 2.7346 - val_accuracy: 0.6016\n",
            "Epoch 90/100\n",
            "8/8 [==============================] - 18s 2s/step - loss: 0.1143 - accuracy: 0.9655 - val_loss: 2.2581 - val_accuracy: 0.6484\n",
            "Epoch 91/100\n",
            "8/8 [==============================] - 18s 2s/step - loss: 0.1148 - accuracy: 0.9611 - val_loss: 4.0997 - val_accuracy: 0.5430\n",
            "Epoch 92/100\n",
            "8/8 [==============================] - 18s 2s/step - loss: 0.1211 - accuracy: 0.9522 - val_loss: 1.3134 - val_accuracy: 0.7461\n",
            "Epoch 93/100\n",
            "8/8 [==============================] - 21s 3s/step - loss: 0.1017 - accuracy: 0.9622 - val_loss: 2.2285 - val_accuracy: 0.6602\n",
            "Epoch 94/100\n",
            "8/8 [==============================] - 20s 3s/step - loss: 0.1008 - accuracy: 0.9678 - val_loss: 2.8808 - val_accuracy: 0.6172\n",
            "Epoch 95/100\n",
            "8/8 [==============================] - 18s 2s/step - loss: 0.2005 - accuracy: 0.9177 - val_loss: 2.4589 - val_accuracy: 0.6133\n",
            "Epoch 96/100\n",
            "8/8 [==============================] - 18s 2s/step - loss: 0.0962 - accuracy: 0.9711 - val_loss: 3.6872 - val_accuracy: 0.5508\n",
            "Epoch 97/100\n",
            "8/8 [==============================] - 18s 2s/step - loss: 0.1141 - accuracy: 0.9588 - val_loss: 3.1402 - val_accuracy: 0.6016\n",
            "Epoch 98/100\n",
            "8/8 [==============================] - 18s 2s/step - loss: 0.1359 - accuracy: 0.9466 - val_loss: 1.8941 - val_accuracy: 0.6641\n",
            "Epoch 99/100\n",
            "8/8 [==============================] - 18s 2s/step - loss: 0.1156 - accuracy: 0.9522 - val_loss: 4.2249 - val_accuracy: 0.5430\n",
            "Epoch 100/100\n",
            "8/8 [==============================] - 18s 2s/step - loss: 0.1739 - accuracy: 0.9288 - val_loss: 2.2996 - val_accuracy: 0.6406\n"
          ],
          "name": "stdout"
        }
      ]
    },
    {
      "cell_type": "code",
      "metadata": {
        "id": "7zNPRWOVJdOH",
        "outputId": "be513bc6-d8ed-483d-a1bb-db00e5a15089",
        "colab": {
          "base_uri": "https://localhost:8080/",
          "height": 545
        }
      },
      "source": [
        "import matplotlib.pyplot as plt\n",
        "acc = history.history['accuracy']\n",
        "val_acc = history.history['val_accuracy']\n",
        "loss = history.history['loss']\n",
        "val_loss = history.history['val_loss']\n",
        "\n",
        "epochs = range(len(acc))\n",
        "\n",
        "plt.plot(epochs, acc, 'r', label='Training accuracy')\n",
        "plt.plot(epochs, val_acc, 'b', label='Validation accuracy')\n",
        "plt.title('Training and validation accuracy')\n",
        "\n",
        "plt.figure()\n",
        "\n",
        "plt.plot(epochs, loss, 'r', label='Training Loss')\n",
        "plt.plot(epochs, val_loss, 'b', label='Validation Loss')\n",
        "plt.title('Training and validation loss')\n",
        "plt.legend()\n",
        "\n",
        "plt.show()"
      ],
      "execution_count": 8,
      "outputs": [
        {
          "output_type": "display_data",
          "data": {
            "image/png": "[encoded data removed]",
            "text/plain": [
              "<Figure size 432x288 with 1 Axes>"
            ]
          },
          "metadata": {
            "tags": [],
            "needs_background": "light"
          }
        },
        {
          "output_type": "display_data",
          "data": {
            "image/png": "[encoded data removed]",
            "text/plain": [
              "<Figure size 432x288 with 1 Axes>"
            ]
          },
          "metadata": {
            "tags": [],
            "needs_background": "light"
          }
        }
      ]
    }
  ]
}