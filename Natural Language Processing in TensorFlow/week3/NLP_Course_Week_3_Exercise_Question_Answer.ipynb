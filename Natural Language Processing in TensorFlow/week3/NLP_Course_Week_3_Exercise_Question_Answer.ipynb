{
  "nbformat": 4,
  "nbformat_minor": 0,
  "metadata": {
    "colab": {
      "name": "NLP Course - Week 3 Exercise Question_Answer.ipynb",
      "provenance": []
    },
    "kernelspec": {
      "name": "python3",
      "display_name": "Python 3"
    },
    "accelerator": "GPU"
  },
  "cells": [
    {
      "cell_type": "markdown",
      "metadata": {
        "id": "zLyQaoRCNJKq"
      },
      "source": [
        "## Sentiment Analysis - Exploring overfitting in NLP"
      ]
    },
    {
      "cell_type": "markdown",
      "metadata": {
        "id": "r6nx-uvFNhPj"
      },
      "source": [
        "Context\n",
        "\n",
        "This is the sentiment140 dataset. It contains 1,600,000 tweets extracted using the twitter api . The tweets have been annotated (0 = negative, 4 = positive) and they can be used to detect sentiment ."
      ]
    },
    {
      "cell_type": "code",
      "metadata": {
        "id": "QzBB2DxeHk16"
      },
      "source": [
        "import json\n",
        "import tensorflow as tf\n",
        "import csv\n",
        "import random\n",
        "import numpy as np\n",
        "\n",
        "from tensorflow.keras.preprocessing.text import Tokenizer\n",
        "from tensorflow.keras.preprocessing.sequence import pad_sequences\n",
        "from tensorflow.keras.utils import to_categorical\n",
        "from tensorflow.keras import regularizers\n",
        "\n",
        "embedding_dim  = 100\n",
        "max_length = 16\n",
        "trunc_type = 'post'\n",
        "padding_type = 'post'\n",
        "oov_tok = \"<OOV>\"\n",
        "training_size = 160000\n",
        "test_portion = 0.1\n",
        "\n",
        "corpus = []\n"
      ],
      "execution_count": 10,
      "outputs": []
    },
    {
      "cell_type": "code",
      "metadata": {
        "id": "0IUIXcPHNI6u",
        "outputId": "a74330cf-31df-4153-99eb-d2163f413cb6",
        "colab": {
          "base_uri": "https://localhost:8080/"
        }
      },
      "source": [
        "# Note that I cleaned the Stanford dataset to remove LATIN1 encoding to make it easier for Python CSV reader\n",
        "# You can do that yourself with:\n",
        "# iconv -f LATIN1 -t UTF8 training.1600000.processed.noemoticon.csv -o training_cleaned.csv\n",
        "# I then hosted it on my site to make it easier to use in this notebook\n",
        "\n",
        "!wget --no-check-certificate \\\n",
        "    https://storage.googleapis.com/laurencemoroney-blog.appspot.com/training_cleaned.csv \\\n",
        "    -O /tmp/training_cleaned.csv\n",
        "\n",
        "num_sentences = 0\n",
        "\n",
        "with open(\"/tmp/training_cleaned.csv\") as csvfile:\n",
        "  reader = csv.reader(csvfile, delimiter=',')\n",
        "  for row in reader:\n",
        "    list_item =[]\n",
        "    list_item.append(row[5])\n",
        "    this_label = row[0]\n",
        "    if this_label =='0':\n",
        "      list_item.append(0)\n",
        "    else:\n",
        "      list_item.append(1)\n",
        "    num_sentences = num_sentences + 1\n",
        "    corpus.append(list_item)"
      ],
      "execution_count": 11,
      "outputs": [
        {
          "output_type": "stream",
          "text": [
            "--2020-10-31 09:20:59--  https://storage.googleapis.com/laurencemoroney-blog.appspot.com/training_cleaned.csv\n",
            "Resolving storage.googleapis.com (storage.googleapis.com)... 172.217.9.208, 172.217.13.240, 172.217.164.144, ...\n",
            "Connecting to storage.googleapis.com (storage.googleapis.com)|172.217.9.208|:443... connected.\n",
            "HTTP request sent, awaiting response... 200 OK\n",
            "Length: 238942690 (228M) [application/octet-stream]\n",
            "Saving to: ‘/tmp/training_cleaned.csv’\n",
            "\n",
            "/tmp/training_clean 100%[===================>] 227.87M   149MB/s    in 1.5s    \n",
            "\n",
            "2020-10-31 09:21:01 (149 MB/s) - ‘/tmp/training_cleaned.csv’ saved [238942690/238942690]\n",
            "\n"
          ],
          "name": "stdout"
        }
      ]
    },
    {
      "cell_type": "code",
      "metadata": {
        "id": "fsY3IWnlbnKv",
        "outputId": "226e016d-b81a-4489-90ae-5acaa2b2c74f",
        "colab": {
          "base_uri": "https://localhost:8080/"
        }
      },
      "source": [
        "print(num_sentences)\n",
        "print(len(corpus))\n",
        "print(corpus[1])"
      ],
      "execution_count": 12,
      "outputs": [
        {
          "output_type": "stream",
          "text": [
            "1600000\n",
            "1600000\n",
            "[\"is upset that he can't update his Facebook by texting it... and might cry as a result  School today also. Blah!\", 0]\n"
          ],
          "name": "stdout"
        }
      ]
    },
    {
      "cell_type": "code",
      "metadata": {
        "id": "DrhIe68XcUOn",
        "outputId": "4e6810cd-463c-4136-ccd3-247195161410",
        "colab": {
          "base_uri": "https://localhost:8080/",
          "height": 53
        }
      },
      "source": [
        "corpus[1][0]"
      ],
      "execution_count": 13,
      "outputs": [
        {
          "output_type": "execute_result",
          "data": {
            "application/vnd.google.colaboratory.intrinsic+json": {
              "type": "string"
            },
            "text/plain": [
              "\"is upset that he can't update his Facebook by texting it... and might cry as a result  School today also. Blah!\""
            ]
          },
          "metadata": {
            "tags": []
          },
          "execution_count": 13
        }
      ]
    },
    {
      "cell_type": "code",
      "metadata": {
        "id": "AprCkFGLb8RW"
      },
      "source": [
        "sentences = []\n",
        "labels = []\n",
        "random.shuffle(corpus)\n",
        "\n",
        "# seperating text and labels from given corpus\n",
        "for x in range(training_size):\n",
        "  sentences.append(corpus[x][0])\n",
        "  labels.append(corpus[x][1])\n",
        "\n",
        "tokenizer = Tokenizer()\n",
        "tokenizer.fit_on_texts(sentences)\n",
        "\n",
        "word_index = tokenizer.word_index\n",
        "vocab_size = len(word_index)\n",
        "\n",
        "sequences = tokenizer.texts_to_sequences(sentences)\n",
        "padded = pad_sequences(sequences, maxlen= max_length, padding=padding_type, truncating=trunc_type)\n",
        "\n",
        "split = int(test_portion * training_size)\n",
        "\n",
        "test_sequences = padded[0:split]\n",
        "training_sequences = padded[split:training_size]\n",
        "test_labels = labels[0:split]\n",
        "training_labels = labels[split:training_size]\n"
      ],
      "execution_count": 14,
      "outputs": []
    },
    {
      "cell_type": "code",
      "metadata": {
        "id": "SlQBdbWndo4I",
        "outputId": "5a0c0a45-61d4-49f7-f8f4-fba2e3c1ae45",
        "colab": {
          "base_uri": "https://localhost:8080/"
        }
      },
      "source": [
        "print(vocab_size)\n",
        "print(word_index['i'])"
      ],
      "execution_count": 15,
      "outputs": [
        {
          "output_type": "stream",
          "text": [
            "138565\n",
            "1\n"
          ],
          "name": "stdout"
        }
      ]
    },
    {
      "cell_type": "code",
      "metadata": {
        "id": "JAOO7u8_dtmD",
        "outputId": "cf2614b6-8ec8-4c2d-af7f-c0c5442bc1ff",
        "colab": {
          "base_uri": "https://localhost:8080/"
        }
      },
      "source": [
        "# Note this is the 100 dimension version of GloVe from Stanford\n",
        "# I unzipped and hosted it on my site to make this notebook easier\n",
        "!wget --no-check-certificate \\\n",
        "    https://storage.googleapis.com/laurencemoroney-blog.appspot.com/glove.6B.100d.txt \\\n",
        "    -O /tmp/glove.6B.100d.txt\n",
        "embeddings_index = {};\n",
        "with open('/tmp/glove.6B.100d.txt') as f:\n",
        "    for line in f:\n",
        "        values = line.split();\n",
        "        word = values[0];\n",
        "        coefs = np.asarray(values[1:], dtype='float32');\n",
        "        embeddings_index[word] = coefs;\n",
        "\n",
        "embeddings_matrix = np.zeros((vocab_size+1, embedding_dim));\n",
        "for word, i in word_index.items():\n",
        "    embedding_vector = embeddings_index.get(word);\n",
        "    if embedding_vector is not None:\n",
        "        embeddings_matrix[i] = embedding_vector;"
      ],
      "execution_count": 16,
      "outputs": [
        {
          "output_type": "stream",
          "text": [
            "--2020-10-31 09:21:12--  https://storage.googleapis.com/laurencemoroney-blog.appspot.com/glove.6B.100d.txt\n",
            "Resolving storage.googleapis.com (storage.googleapis.com)... 142.250.73.240, 172.253.122.128, 142.250.73.208, ...\n",
            "Connecting to storage.googleapis.com (storage.googleapis.com)|142.250.73.240|:443... connected.\n",
            "HTTP request sent, awaiting response... 200 OK\n",
            "Length: 347116733 (331M) [text/plain]\n",
            "Saving to: ‘/tmp/glove.6B.100d.txt’\n",
            "\n",
            "/tmp/glove.6B.100d. 100%[===================>] 331.04M   137MB/s    in 2.4s    \n",
            "\n",
            "2020-10-31 09:21:15 (137 MB/s) - ‘/tmp/glove.6B.100d.txt’ saved [347116733/347116733]\n",
            "\n"
          ],
          "name": "stdout"
        }
      ]
    },
    {
      "cell_type": "code",
      "metadata": {
        "id": "VcUosMsS8IVZ",
        "outputId": "b9f4882d-2742-4ebe-fa08-0d73486a23b5",
        "colab": {
          "base_uri": "https://localhost:8080/"
        }
      },
      "source": [
        "print(len(embeddings_matrix))"
      ],
      "execution_count": 17,
      "outputs": [
        {
          "output_type": "stream",
          "text": [
            "138566\n"
          ],
          "name": "stdout"
        }
      ]
    },
    {
      "cell_type": "code",
      "metadata": {
        "id": "NnR61u5v8ZX_",
        "outputId": "1c9a9c8e-ac13-47fa-ab43-f1bec19657aa",
        "colab": {
          "base_uri": "https://localhost:8080/"
        }
      },
      "source": [
        "# Creating the model\n",
        "model = tf.keras.Sequential([\n",
        "                             tf.keras.layers.Embedding(vocab_size+1, embedding_dim, input_length=max_length, \n",
        "                                                       weights=[embeddings_matrix], trainable=False),\n",
        "                             tf.keras.layers.Dropout(0.2),\n",
        "                             tf.keras.layers.Conv1D(64, 5, activation='relu'),\n",
        "                             tf.keras.layers.MaxPooling1D(pool_size=4),\n",
        "                             tf.keras.layers.LSTM(64),\n",
        "                             tf.keras.layers.Dense(1, activation='sigmoid')\n",
        "])\n",
        "model.compile(loss='binary_crossentropy', optimizer='adam', metrics=['accuracy'])\n",
        "model.summary()\n",
        "\n",
        "num_epochs = 50\n",
        "\n",
        "training_padded = np.array(training_sequences)\n",
        "training_labels = np.array(training_labels)\n",
        "testing_padded = np.array(test_sequences)\n",
        "testing_labels = np.array(test_labels)\n",
        "\n",
        "history = model.fit(training_padded, training_labels, epochs=num_epochs, validation_data=(testing_padded, testing_labels), verbose=2)\n",
        "print(\"Training Complete\")"
      ],
      "execution_count": 19,
      "outputs": [
        {
          "output_type": "stream",
          "text": [
            "Model: \"sequential\"\n",
            "_________________________________________________________________\n",
            "Layer (type)                 Output Shape              Param #   \n",
            "=================================================================\n",
            "embedding (Embedding)        (None, 16, 100)           13856600  \n",
            "_________________________________________________________________\n",
            "dropout (Dropout)            (None, 16, 100)           0         \n",
            "_________________________________________________________________\n",
            "conv1d (Conv1D)              (None, 12, 64)            32064     \n",
            "_________________________________________________________________\n",
            "max_pooling1d (MaxPooling1D) (None, 3, 64)             0         \n",
            "_________________________________________________________________\n",
            "lstm (LSTM)                  (None, 64)                33024     \n",
            "_________________________________________________________________\n",
            "dense (Dense)                (None, 1)                 65        \n",
            "=================================================================\n",
            "Total params: 13,921,753\n",
            "Trainable params: 65,153\n",
            "Non-trainable params: 13,856,600\n",
            "_________________________________________________________________\n",
            "Epoch 1/50\n",
            "4500/4500 - 15s - loss: 0.5669 - accuracy: 0.6997 - val_loss: 0.5273 - val_accuracy: 0.7331\n",
            "Epoch 2/50\n",
            "4500/4500 - 15s - loss: 0.5269 - accuracy: 0.7327 - val_loss: 0.5156 - val_accuracy: 0.7412\n",
            "Epoch 3/50\n",
            "4500/4500 - 15s - loss: 0.5112 - accuracy: 0.7437 - val_loss: 0.5074 - val_accuracy: 0.7472\n",
            "Epoch 4/50\n",
            "4500/4500 - 14s - loss: 0.5003 - accuracy: 0.7517 - val_loss: 0.5010 - val_accuracy: 0.7514\n",
            "Epoch 5/50\n",
            "4500/4500 - 14s - loss: 0.4920 - accuracy: 0.7579 - val_loss: 0.5009 - val_accuracy: 0.7528\n",
            "Epoch 6/50\n",
            "4500/4500 - 14s - loss: 0.4850 - accuracy: 0.7615 - val_loss: 0.4984 - val_accuracy: 0.7552\n",
            "Epoch 7/50\n",
            "4500/4500 - 15s - loss: 0.4787 - accuracy: 0.7650 - val_loss: 0.5010 - val_accuracy: 0.7495\n",
            "Epoch 8/50\n",
            "4500/4500 - 15s - loss: 0.4732 - accuracy: 0.7691 - val_loss: 0.5030 - val_accuracy: 0.7502\n",
            "Epoch 9/50\n",
            "4500/4500 - 15s - loss: 0.4682 - accuracy: 0.7730 - val_loss: 0.5032 - val_accuracy: 0.7540\n",
            "Epoch 10/50\n",
            "4500/4500 - 14s - loss: 0.4649 - accuracy: 0.7742 - val_loss: 0.5048 - val_accuracy: 0.7531\n",
            "Epoch 11/50\n",
            "4500/4500 - 14s - loss: 0.4617 - accuracy: 0.7755 - val_loss: 0.5048 - val_accuracy: 0.7513\n",
            "Epoch 12/50\n",
            "4500/4500 - 15s - loss: 0.4582 - accuracy: 0.7784 - val_loss: 0.5045 - val_accuracy: 0.7516\n",
            "Epoch 13/50\n",
            "4500/4500 - 14s - loss: 0.4575 - accuracy: 0.7784 - val_loss: 0.5069 - val_accuracy: 0.7524\n",
            "Epoch 14/50\n",
            "4500/4500 - 14s - loss: 0.4535 - accuracy: 0.7797 - val_loss: 0.5127 - val_accuracy: 0.7522\n",
            "Epoch 15/50\n",
            "4500/4500 - 15s - loss: 0.4511 - accuracy: 0.7822 - val_loss: 0.5060 - val_accuracy: 0.7548\n",
            "Epoch 16/50\n",
            "4500/4500 - 15s - loss: 0.4495 - accuracy: 0.7837 - val_loss: 0.5107 - val_accuracy: 0.7491\n",
            "Epoch 17/50\n",
            "4500/4500 - 15s - loss: 0.4479 - accuracy: 0.7844 - val_loss: 0.5104 - val_accuracy: 0.7514\n",
            "Epoch 18/50\n",
            "4500/4500 - 15s - loss: 0.4464 - accuracy: 0.7866 - val_loss: 0.5119 - val_accuracy: 0.7515\n",
            "Epoch 19/50\n",
            "4500/4500 - 15s - loss: 0.4455 - accuracy: 0.7863 - val_loss: 0.5085 - val_accuracy: 0.7516\n",
            "Epoch 20/50\n",
            "4500/4500 - 15s - loss: 0.4445 - accuracy: 0.7861 - val_loss: 0.5069 - val_accuracy: 0.7495\n",
            "Epoch 21/50\n",
            "4500/4500 - 15s - loss: 0.4419 - accuracy: 0.7882 - val_loss: 0.5084 - val_accuracy: 0.7474\n",
            "Epoch 22/50\n",
            "4500/4500 - 15s - loss: 0.4417 - accuracy: 0.7884 - val_loss: 0.5066 - val_accuracy: 0.7495\n",
            "Epoch 23/50\n",
            "4500/4500 - 15s - loss: 0.4407 - accuracy: 0.7891 - val_loss: 0.5155 - val_accuracy: 0.7508\n",
            "Epoch 24/50\n",
            "4500/4500 - 15s - loss: 0.4400 - accuracy: 0.7905 - val_loss: 0.5151 - val_accuracy: 0.7530\n",
            "Epoch 25/50\n",
            "4500/4500 - 15s - loss: 0.4376 - accuracy: 0.7909 - val_loss: 0.5224 - val_accuracy: 0.7447\n",
            "Epoch 26/50\n",
            "4500/4500 - 15s - loss: 0.4377 - accuracy: 0.7906 - val_loss: 0.5166 - val_accuracy: 0.7520\n",
            "Epoch 27/50\n",
            "4500/4500 - 15s - loss: 0.4376 - accuracy: 0.7898 - val_loss: 0.5128 - val_accuracy: 0.7487\n",
            "Epoch 28/50\n",
            "4500/4500 - 15s - loss: 0.4371 - accuracy: 0.7915 - val_loss: 0.5145 - val_accuracy: 0.7510\n",
            "Epoch 29/50\n",
            "4500/4500 - 15s - loss: 0.4355 - accuracy: 0.7923 - val_loss: 0.5208 - val_accuracy: 0.7467\n",
            "Epoch 30/50\n",
            "4500/4500 - 15s - loss: 0.4350 - accuracy: 0.7930 - val_loss: 0.5161 - val_accuracy: 0.7494\n",
            "Epoch 31/50\n",
            "4500/4500 - 16s - loss: 0.4338 - accuracy: 0.7932 - val_loss: 0.5129 - val_accuracy: 0.7516\n",
            "Epoch 32/50\n",
            "4500/4500 - 15s - loss: 0.4325 - accuracy: 0.7946 - val_loss: 0.5172 - val_accuracy: 0.7489\n",
            "Epoch 33/50\n",
            "4500/4500 - 15s - loss: 0.4337 - accuracy: 0.7928 - val_loss: 0.5193 - val_accuracy: 0.7510\n",
            "Epoch 34/50\n",
            "4500/4500 - 15s - loss: 0.4328 - accuracy: 0.7930 - val_loss: 0.5183 - val_accuracy: 0.7513\n",
            "Epoch 35/50\n",
            "4500/4500 - 16s - loss: 0.4327 - accuracy: 0.7937 - val_loss: 0.5164 - val_accuracy: 0.7529\n",
            "Epoch 36/50\n",
            "4500/4500 - 16s - loss: 0.4321 - accuracy: 0.7943 - val_loss: 0.5162 - val_accuracy: 0.7496\n",
            "Epoch 37/50\n",
            "4500/4500 - 15s - loss: 0.4297 - accuracy: 0.7954 - val_loss: 0.5168 - val_accuracy: 0.7488\n",
            "Epoch 38/50\n",
            "4500/4500 - 15s - loss: 0.4309 - accuracy: 0.7959 - val_loss: 0.5203 - val_accuracy: 0.7513\n",
            "Epoch 39/50\n",
            "4500/4500 - 15s - loss: 0.4309 - accuracy: 0.7948 - val_loss: 0.5182 - val_accuracy: 0.7490\n",
            "Epoch 40/50\n",
            "4500/4500 - 15s - loss: 0.4316 - accuracy: 0.7954 - val_loss: 0.5188 - val_accuracy: 0.7479\n",
            "Epoch 41/50\n",
            "4500/4500 - 15s - loss: 0.4309 - accuracy: 0.7950 - val_loss: 0.5141 - val_accuracy: 0.7506\n",
            "Epoch 42/50\n",
            "4500/4500 - 16s - loss: 0.4288 - accuracy: 0.7952 - val_loss: 0.5176 - val_accuracy: 0.7528\n",
            "Epoch 43/50\n",
            "4500/4500 - 15s - loss: 0.4297 - accuracy: 0.7967 - val_loss: 0.5173 - val_accuracy: 0.7494\n",
            "Epoch 44/50\n",
            "4500/4500 - 15s - loss: 0.4305 - accuracy: 0.7953 - val_loss: 0.5200 - val_accuracy: 0.7470\n",
            "Epoch 45/50\n",
            "4500/4500 - 15s - loss: 0.4288 - accuracy: 0.7966 - val_loss: 0.5198 - val_accuracy: 0.7517\n",
            "Epoch 46/50\n",
            "4500/4500 - 15s - loss: 0.4284 - accuracy: 0.7966 - val_loss: 0.5147 - val_accuracy: 0.7509\n",
            "Epoch 47/50\n",
            "4500/4500 - 15s - loss: 0.4280 - accuracy: 0.7975 - val_loss: 0.5197 - val_accuracy: 0.7473\n",
            "Epoch 48/50\n",
            "4500/4500 - 15s - loss: 0.4272 - accuracy: 0.7977 - val_loss: 0.5193 - val_accuracy: 0.7504\n",
            "Epoch 49/50\n",
            "4500/4500 - 15s - loss: 0.4280 - accuracy: 0.7965 - val_loss: 0.5227 - val_accuracy: 0.7491\n",
            "Epoch 50/50\n",
            "4500/4500 - 15s - loss: 0.4275 - accuracy: 0.7966 - val_loss: 0.5189 - val_accuracy: 0.7501\n",
            "Training Complete\n"
          ],
          "name": "stdout"
        }
      ]
    },
    {
      "cell_type": "code",
      "metadata": {
        "id": "jq85o1Yh_NH3",
        "outputId": "571ed49a-ed37-4173-8728-80053389c9d8",
        "colab": {
          "base_uri": "https://localhost:8080/",
          "height": 607
        }
      },
      "source": [
        "import matplotlib.image  as mpimg\n",
        "import matplotlib.pyplot as plt\n",
        "\n",
        "#-----------------------------------------------------------\n",
        "# Retrieve a list of list results on training and test data\n",
        "# sets for each training epoch\n",
        "#-----------------------------------------------------------\n",
        "acc=history.history['accuracy']\n",
        "val_acc=history.history['val_accuracy']\n",
        "loss=history.history['loss']\n",
        "val_loss=history.history['val_loss']\n",
        "\n",
        "epochs=range(len(acc)) # Get number of epochs\n",
        "\n",
        "#------------------------------------------------\n",
        "# Plot training and validation accuracy per epoch\n",
        "#------------------------------------------------\n",
        "plt.plot(epochs, acc, 'r')\n",
        "plt.plot(epochs, val_acc, 'b')\n",
        "plt.title('Training and validation accuracy')\n",
        "plt.xlabel(\"Epochs\")\n",
        "plt.ylabel(\"Accuracy\")\n",
        "plt.legend([\"Accuracy\", \"Validation Accuracy\"])\n",
        "\n",
        "plt.figure()\n",
        "\n",
        "#------------------------------------------------\n",
        "# Plot training and validation loss per epoch\n",
        "#------------------------------------------------\n",
        "plt.plot(epochs, loss, 'r')\n",
        "plt.plot(epochs, val_loss, 'b')\n",
        "plt.title('Training and validation loss')\n",
        "plt.xlabel(\"Epochs\")\n",
        "plt.ylabel(\"Loss\")\n",
        "plt.legend([\"Loss\", \"Validation Loss\"])\n",
        "\n",
        "plt.figure()\n",
        "\n",
        "\n",
        "# Expected Output\n",
        "# A chart where the validation loss does not increase sharply!"
      ],
      "execution_count": 20,
      "outputs": [
        {
          "output_type": "execute_result",
          "data": {
            "text/plain": [
              "<Figure size 432x288 with 0 Axes>"
            ]
          },
          "metadata": {
            "tags": []
          },
          "execution_count": 20
        },
        {
          "output_type": "display_data",
          "data": {
            "image/png": "[encoded data removed]",
            "text/plain": [
              "<Figure size 432x288 with 1 Axes>"
            ]
          },
          "metadata": {
            "tags": [],
            "needs_background": "light"
          }
        },
        {
          "output_type": "display_data",
          "data": {
            "image/png": "[encoded data removed]",
            "text/plain": [
              "<Figure size 432x288 with 1 Axes>"
            ]
          },
          "metadata": {
            "tags": [],
            "needs_background": "light"
          }
        },
        {
          "output_type": "display_data",
          "data": {
            "text/plain": [
              "<Figure size 432x288 with 0 Axes>"
            ]
          },
          "metadata": {
            "tags": []
          }
        }
      ]
    }
  ]
}